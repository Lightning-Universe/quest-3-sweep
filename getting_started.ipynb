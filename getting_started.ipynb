{
 "cells": [
  {
   "cell_type": "markdown",
   "metadata": {},
   "source": [
    "# Run A Hyperparameter Sweep\n",
    "\n",
    "Follow instructions: https://lightning.ai/lightning-ai/studios/quest-3-run-a-hyperparameter-sweep"
   ]
  }
 ],
 "metadata": {
  "language_info": {
   "name": "python"
  }
 },
 "nbformat": 4,
 "nbformat_minor": 2
}
